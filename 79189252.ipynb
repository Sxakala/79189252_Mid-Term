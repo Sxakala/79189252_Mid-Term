{
 "cells": [
  {
   "cell_type": "code",
   "execution_count": 4,
   "id": "b920af89-10d4-4f3f-a910-a0d9cb6c0114",
   "metadata": {},
   "outputs": [
    {
     "ename": "SyntaxError",
     "evalue": "invalid syntax (3198714463.py, line 4)",
     "output_type": "error",
     "traceback": [
      "\u001b[0;36m  Cell \u001b[0;32mIn[4], line 4\u001b[0;36m\u001b[0m\n\u001b[0;31m    from matplotlib import as plt\u001b[0m\n\u001b[0m                           ^\u001b[0m\n\u001b[0;31mSyntaxError\u001b[0m\u001b[0;31m:\u001b[0m invalid syntax\n"
     ]
    }
   ],
   "source": [
    "# Libraries \n",
    "import numpy as np\n",
    "import pandas as pd\n",
    "from matplotlib import as plt\n",
    "import seaborn as sns\n"
   ]
  },
  {
   "cell_type": "code",
   "execution_count": 6,
   "id": "2bd4c55e-2a38-44f8-a2e0-c149749c1307",
   "metadata": {},
   "outputs": [],
   "source": [
    "# Ignore warnings\n",
    "import warnings"
   ]
  },
  {
   "cell_type": "code",
   "execution_count": 61,
   "id": "a9c8e7df-f1ed-4189-ac3a-12e3fb671ec2",
   "metadata": {},
   "outputs": [
    {
     "ename": "SyntaxError",
     "evalue": "(unicode error) 'unicodeescape' codec can't decode bytes in position 2-3: truncated \\UXXXXXXXX escape (3778253706.py, line 1)",
     "output_type": "error",
     "traceback": [
      "\u001b[0;36m  Cell \u001b[0;32mIn[61], line 1\u001b[0;36m\u001b[0m\n\u001b[0;31m    data = pd.read_csv(\"C:\\Users\\ADMINISTRATION\\Downloads\\companies_no_subindustry.csv\")\u001b[0m\n\u001b[0m                                                                                       ^\u001b[0m\n\u001b[0;31mSyntaxError\u001b[0m\u001b[0;31m:\u001b[0m (unicode error) 'unicodeescape' codec can't decode bytes in position 2-3: truncated \\UXXXXXXXX escape\n"
     ]
    }
   ],
   "source": [
    "data = pd.read_csv(\"C:\\Users\\ADMINISTRATION\\Downloads\\companies_no_subindustry.csv\")"
   ]
  },
  {
   "cell_type": "code",
   "execution_count": 63,
   "id": "17f96f9f-0cc4-49e9-91b2-c8e64181aeb5",
   "metadata": {},
   "outputs": [
    {
     "ename": "NameError",
     "evalue": "name 'companies_no_subindustry' is not defined",
     "output_type": "error",
     "traceback": [
      "\u001b[0;31m---------------------------------------------------------------------------\u001b[0m",
      "\u001b[0;31mNameError\u001b[0m                                 Traceback (most recent call last)",
      "Cell \u001b[0;32mIn[63], line 1\u001b[0m\n\u001b[0;32m----> 1\u001b[0m \u001b[38;5;28mprint\u001b[39m(\u001b[43mcompanies_no_subindustry\u001b[49m\u001b[38;5;241m.\u001b[39mcsv\u001b[38;5;241m.\u001b[39mhead())\n",
      "\u001b[0;31mNameError\u001b[0m: name 'companies_no_subindustry' is not defined"
     ]
    }
   ],
   "source": [
    "print(companies_no_subindustry.csv.head())"
   ]
  },
  {
   "cell_type": "code",
   "execution_count": null,
   "id": "f354744e-634a-42a2-aad0-5d47ce80c1d5",
   "metadata": {},
   "outputs": [],
   "source": []
  }
 ],
 "metadata": {
  "kernelspec": {
   "display_name": "anaconda-2024.02-py310",
   "language": "python",
   "name": "conda-env-anaconda-2024.02-py310-py"
  },
  "language_info": {
   "codemirror_mode": {
    "name": "ipython",
    "version": 3
   },
   "file_extension": ".py",
   "mimetype": "text/x-python",
   "name": "python",
   "nbconvert_exporter": "python",
   "pygments_lexer": "ipython3",
   "version": "3.10.14"
  }
 },
 "nbformat": 4,
 "nbformat_minor": 5
}
